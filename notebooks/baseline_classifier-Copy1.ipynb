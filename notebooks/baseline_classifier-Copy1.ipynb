{
 "cells": [
  {
   "cell_type": "code",
   "execution_count": 1,
   "id": "57ca4909-0057-4735-81f0-93f2367c7d0e",
   "metadata": {},
   "outputs": [],
   "source": [
    "import pandas as pd\n",
    "import numpy as np\n",
    "import matplotlib.pyplot as plt\n",
    "from wordcloud import WordCloud\n",
    "import nltk\n",
    "from nltk.corpus import stopwords"
   ]
  },
  {
   "cell_type": "markdown",
   "id": "58e3ca3f-041e-42d9-b71f-35343ab482e1",
   "metadata": {},
   "source": [
    "### Read product data"
   ]
  },
  {
   "cell_type": "code",
   "execution_count": 2,
   "id": "7125b25c-b71e-4853-acce-cb83b2c3356d",
   "metadata": {},
   "outputs": [],
   "source": [
    "prod_df0 = pd.read_csv('/Users/zulikahlatief/Desktop/personal/ecommerce/dataset/products-data-0.tsv', sep='\\t', names=['id', 'category', 'title'])\n",
    "prod_df1 = pd.read_csv('/Users/zulikahlatief/Desktop/personal/ecommerce/dataset/products-data-1.tsv', sep='\\t', names=['id', 'category', 'title'])\n",
    "prod_df2 = pd.read_csv('/Users/zulikahlatief/Desktop/personal/ecommerce/dataset/products-data-2.tsv', sep='\\t', names=['id', 'category', 'title'])\n",
    "#prod_df3 = pd.read_csv('/Users/zulikahlatief/Desktop/personal/ecommerce/dataset/products-data-3.tsv', sep='\\t', names=['id', 'category', 'title'])"
   ]
  },
  {
   "cell_type": "code",
   "execution_count": 7,
   "id": "b06efaa8-146f-47d9-a347-85d39f2e4bcf",
   "metadata": {},
   "outputs": [],
   "source": [
    "from pathlib import Path\n",
    "\n",
    "product_data = [\"products-data-0\", \"products-data-1\", \"products-data-2\"]\n",
    "file_path = Path(\"/Users/zulikahlatief/Desktop/personal/ecommerce/dataset\")\n",
    "\n",
    "dfs = [pd.read_csv(file_path / f\"{x}.tsv\", sep='\\t', names=['id', 'category', 'title']) for x in product_data]\n",
    "df = pd.concat(dfs, ignore_index=True)"
   ]
  },
  {
   "cell_type": "code",
   "execution_count": 9,
   "id": "57ff1010-580f-4e71-bd79-151a1ade5b92",
   "metadata": {},
   "outputs": [
    {
     "data": {
      "text/html": [
       "<div>\n",
       "<style scoped>\n",
       "    .dataframe tbody tr th:only-of-type {\n",
       "        vertical-align: middle;\n",
       "    }\n",
       "\n",
       "    .dataframe tbody tr th {\n",
       "        vertical-align: top;\n",
       "    }\n",
       "\n",
       "    .dataframe thead th {\n",
       "        text-align: right;\n",
       "    }\n",
       "</style>\n",
       "<table border=\"1\" class=\"dataframe\">\n",
       "  <thead>\n",
       "    <tr style=\"text-align: right;\">\n",
       "      <th></th>\n",
       "      <th>id</th>\n",
       "      <th>category</th>\n",
       "      <th>title</th>\n",
       "    </tr>\n",
       "  </thead>\n",
       "  <tbody>\n",
       "    <tr>\n",
       "      <th>0</th>\n",
       "      <td>daa54754-af9c-41c0-b542-fe5eabc5919c</td>\n",
       "      <td>Kitchen</td>\n",
       "      <td>Bodum Travel Press 12-Ounce French Press Coffe...</td>\n",
       "    </tr>\n",
       "    <tr>\n",
       "      <th>1</th>\n",
       "      <td>ab602aca-9bad-4aa9-bd42-6ce24cdf8680</td>\n",
       "      <td>Kitchen</td>\n",
       "      <td>RH Forschner by Victorinox BladeSafe for Knife...</td>\n",
       "    </tr>\n",
       "    <tr>\n",
       "      <th>2</th>\n",
       "      <td>f98cd8d3-d6fe-4ee3-8c9f-a18c1690f7a6</td>\n",
       "      <td>Kitchen</td>\n",
       "      <td>Bellemain 12-Cup Nonstick Madeleine Pan</td>\n",
       "    </tr>\n",
       "    <tr>\n",
       "      <th>3</th>\n",
       "      <td>396f73e3-e3ef-4c93-a4b7-e8b04c6a2223</td>\n",
       "      <td>Jewelry</td>\n",
       "      <td>8mm Heat Treated Agate Beads Tibetan Buddhist ...</td>\n",
       "    </tr>\n",
       "    <tr>\n",
       "      <th>4</th>\n",
       "      <td>329ed5e3-8b47-4e78-961b-18b89e7da808</td>\n",
       "      <td>Jewelry</td>\n",
       "      <td>2.50 Ct Oval Black Onyx 925 Sterling Silver Pe...</td>\n",
       "    </tr>\n",
       "    <tr>\n",
       "      <th>...</th>\n",
       "      <td>...</td>\n",
       "      <td>...</td>\n",
       "      <td>...</td>\n",
       "    </tr>\n",
       "    <tr>\n",
       "      <th>995</th>\n",
       "      <td>be9a7d72-f3a5-457e-a748-dfe2828f57b2</td>\n",
       "      <td>Jewelry</td>\n",
       "      <td>Sterling Silver Diamond-Accent Heart Pendant N...</td>\n",
       "    </tr>\n",
       "    <tr>\n",
       "      <th>996</th>\n",
       "      <td>342bc356-b54b-4e76-a50f-4ecbb2777e48</td>\n",
       "      <td>Kitchen</td>\n",
       "      <td>Hamilton Beach 58148A Power Elite Multi-Functi...</td>\n",
       "    </tr>\n",
       "    <tr>\n",
       "      <th>997</th>\n",
       "      <td>c0c3e8bf-f2a2-43ed-8afb-eea22a786d9c</td>\n",
       "      <td>Jewelry</td>\n",
       "      <td>Epinki Men's Women's Stainless Steel Jewelry P...</td>\n",
       "    </tr>\n",
       "    <tr>\n",
       "      <th>998</th>\n",
       "      <td>3d542aa3-c565-4977-a462-5629acf5601d</td>\n",
       "      <td>Jewelry</td>\n",
       "      <td>Ivory Pearl Drop Designer Wedding Earrings wit...</td>\n",
       "    </tr>\n",
       "    <tr>\n",
       "      <th>999</th>\n",
       "      <td>550857b6-5c03-44b9-8813-785bc2296424</td>\n",
       "      <td>Jewelry</td>\n",
       "      <td>10k White Gold Aquamarine and Diamond (0.2cttw...</td>\n",
       "    </tr>\n",
       "  </tbody>\n",
       "</table>\n",
       "<p>1000 rows × 3 columns</p>\n",
       "</div>"
      ],
      "text/plain": [
       "                                       id category  \\\n",
       "0    daa54754-af9c-41c0-b542-fe5eabc5919c  Kitchen   \n",
       "1    ab602aca-9bad-4aa9-bd42-6ce24cdf8680  Kitchen   \n",
       "2    f98cd8d3-d6fe-4ee3-8c9f-a18c1690f7a6  Kitchen   \n",
       "3    396f73e3-e3ef-4c93-a4b7-e8b04c6a2223  Jewelry   \n",
       "4    329ed5e3-8b47-4e78-961b-18b89e7da808  Jewelry   \n",
       "..                                    ...      ...   \n",
       "995  be9a7d72-f3a5-457e-a748-dfe2828f57b2  Jewelry   \n",
       "996  342bc356-b54b-4e76-a50f-4ecbb2777e48  Kitchen   \n",
       "997  c0c3e8bf-f2a2-43ed-8afb-eea22a786d9c  Jewelry   \n",
       "998  3d542aa3-c565-4977-a462-5629acf5601d  Jewelry   \n",
       "999  550857b6-5c03-44b9-8813-785bc2296424  Jewelry   \n",
       "\n",
       "                                                 title  \n",
       "0    Bodum Travel Press 12-Ounce French Press Coffe...  \n",
       "1    RH Forschner by Victorinox BladeSafe for Knife...  \n",
       "2              Bellemain 12-Cup Nonstick Madeleine Pan  \n",
       "3    8mm Heat Treated Agate Beads Tibetan Buddhist ...  \n",
       "4    2.50 Ct Oval Black Onyx 925 Sterling Silver Pe...  \n",
       "..                                                 ...  \n",
       "995  Sterling Silver Diamond-Accent Heart Pendant N...  \n",
       "996  Hamilton Beach 58148A Power Elite Multi-Functi...  \n",
       "997  Epinki Men's Women's Stainless Steel Jewelry P...  \n",
       "998  Ivory Pearl Drop Designer Wedding Earrings wit...  \n",
       "999  10k White Gold Aquamarine and Diamond (0.2cttw...  \n",
       "\n",
       "[1000 rows x 3 columns]"
      ]
     },
     "execution_count": 9,
     "metadata": {},
     "output_type": "execute_result"
    }
   ],
   "source": [
    "df"
   ]
  },
  {
   "cell_type": "code",
   "execution_count": 3,
   "id": "f6456deb-e3dc-47fa-8388-4c758a949510",
   "metadata": {},
   "outputs": [
    {
     "data": {
      "text/html": [
       "<div>\n",
       "<style scoped>\n",
       "    .dataframe tbody tr th:only-of-type {\n",
       "        vertical-align: middle;\n",
       "    }\n",
       "\n",
       "    .dataframe tbody tr th {\n",
       "        vertical-align: top;\n",
       "    }\n",
       "\n",
       "    .dataframe thead th {\n",
       "        text-align: right;\n",
       "    }\n",
       "</style>\n",
       "<table border=\"1\" class=\"dataframe\">\n",
       "  <thead>\n",
       "    <tr style=\"text-align: right;\">\n",
       "      <th></th>\n",
       "      <th>id</th>\n",
       "      <th>category</th>\n",
       "      <th>title</th>\n",
       "    </tr>\n",
       "  </thead>\n",
       "  <tbody>\n",
       "    <tr>\n",
       "      <th>0</th>\n",
       "      <td>daa54754-af9c-41c0-b542-fe5eabc5919c</td>\n",
       "      <td>Kitchen</td>\n",
       "      <td>Bodum Travel Press 12-Ounce French Press Coffe...</td>\n",
       "    </tr>\n",
       "    <tr>\n",
       "      <th>1</th>\n",
       "      <td>ab602aca-9bad-4aa9-bd42-6ce24cdf8680</td>\n",
       "      <td>Kitchen</td>\n",
       "      <td>RH Forschner by Victorinox BladeSafe for Knife...</td>\n",
       "    </tr>\n",
       "    <tr>\n",
       "      <th>2</th>\n",
       "      <td>f98cd8d3-d6fe-4ee3-8c9f-a18c1690f7a6</td>\n",
       "      <td>Kitchen</td>\n",
       "      <td>Bellemain 12-Cup Nonstick Madeleine Pan</td>\n",
       "    </tr>\n",
       "    <tr>\n",
       "      <th>3</th>\n",
       "      <td>396f73e3-e3ef-4c93-a4b7-e8b04c6a2223</td>\n",
       "      <td>Jewelry</td>\n",
       "      <td>8mm Heat Treated Agate Beads Tibetan Buddhist ...</td>\n",
       "    </tr>\n",
       "    <tr>\n",
       "      <th>4</th>\n",
       "      <td>329ed5e3-8b47-4e78-961b-18b89e7da808</td>\n",
       "      <td>Jewelry</td>\n",
       "      <td>2.50 Ct Oval Black Onyx 925 Sterling Silver Pe...</td>\n",
       "    </tr>\n",
       "    <tr>\n",
       "      <th>...</th>\n",
       "      <td>...</td>\n",
       "      <td>...</td>\n",
       "      <td>...</td>\n",
       "    </tr>\n",
       "    <tr>\n",
       "      <th>1495</th>\n",
       "      <td>16194779-19a0-41d9-a770-43228a032449</td>\n",
       "      <td>Kitchen</td>\n",
       "      <td>Disposable Filters for Use in Keurig Brewers -...</td>\n",
       "    </tr>\n",
       "    <tr>\n",
       "      <th>1496</th>\n",
       "      <td>22ef857b-fcad-4ad8-ab40-925d21ca073b</td>\n",
       "      <td>Kitchen</td>\n",
       "      <td>Bellemain Adjustable Burger Press with Auto Ex...</td>\n",
       "    </tr>\n",
       "    <tr>\n",
       "      <th>1497</th>\n",
       "      <td>17c5f4ec-bd21-49fe-b764-5f247b8f92c6</td>\n",
       "      <td>Kitchen</td>\n",
       "      <td>Breville Crispy Crust Pizza Maker</td>\n",
       "    </tr>\n",
       "    <tr>\n",
       "      <th>1498</th>\n",
       "      <td>3e241866-942b-4a76-8896-12dec938373d</td>\n",
       "      <td>Kitchen</td>\n",
       "      <td>Now Designs Owls Canister, Large, Dark Blue</td>\n",
       "    </tr>\n",
       "    <tr>\n",
       "      <th>1499</th>\n",
       "      <td>cff73259-edc5-4390-9ea5-102d38f12e24</td>\n",
       "      <td>Kitchen</td>\n",
       "      <td>Browne (HL288S) 7-3/8\" Deluxe Spreader</td>\n",
       "    </tr>\n",
       "  </tbody>\n",
       "</table>\n",
       "<p>1500 rows × 3 columns</p>\n",
       "</div>"
      ],
      "text/plain": [
       "                                        id category  \\\n",
       "0     daa54754-af9c-41c0-b542-fe5eabc5919c  Kitchen   \n",
       "1     ab602aca-9bad-4aa9-bd42-6ce24cdf8680  Kitchen   \n",
       "2     f98cd8d3-d6fe-4ee3-8c9f-a18c1690f7a6  Kitchen   \n",
       "3     396f73e3-e3ef-4c93-a4b7-e8b04c6a2223  Jewelry   \n",
       "4     329ed5e3-8b47-4e78-961b-18b89e7da808  Jewelry   \n",
       "...                                    ...      ...   \n",
       "1495  16194779-19a0-41d9-a770-43228a032449  Kitchen   \n",
       "1496  22ef857b-fcad-4ad8-ab40-925d21ca073b  Kitchen   \n",
       "1497  17c5f4ec-bd21-49fe-b764-5f247b8f92c6  Kitchen   \n",
       "1498  3e241866-942b-4a76-8896-12dec938373d  Kitchen   \n",
       "1499  cff73259-edc5-4390-9ea5-102d38f12e24  Kitchen   \n",
       "\n",
       "                                                  title  \n",
       "0     Bodum Travel Press 12-Ounce French Press Coffe...  \n",
       "1     RH Forschner by Victorinox BladeSafe for Knife...  \n",
       "2               Bellemain 12-Cup Nonstick Madeleine Pan  \n",
       "3     8mm Heat Treated Agate Beads Tibetan Buddhist ...  \n",
       "4     2.50 Ct Oval Black Onyx 925 Sterling Silver Pe...  \n",
       "...                                                 ...  \n",
       "1495  Disposable Filters for Use in Keurig Brewers -...  \n",
       "1496  Bellemain Adjustable Burger Press with Auto Ex...  \n",
       "1497                  Breville Crispy Crust Pizza Maker  \n",
       "1498        Now Designs Owls Canister, Large, Dark Blue  \n",
       "1499             Browne (HL288S) 7-3/8\" Deluxe Spreader  \n",
       "\n",
       "[1500 rows x 3 columns]"
      ]
     },
     "execution_count": 3,
     "metadata": {},
     "output_type": "execute_result"
    }
   ],
   "source": [
    "frames = [prod_df0, prod_df1, prod_df2]\n",
    "prod = pd.concat(frames, ignore_index=True)\n",
    "prod"
   ]
  },
  {
   "cell_type": "code",
   "execution_count": 4,
   "id": "0138ad4e-185a-4e57-8fa6-b1cec96a6e08",
   "metadata": {},
   "outputs": [
    {
     "data": {
      "text/plain": [
       "category\n",
       "Kitchen    750\n",
       "Jewelry    750\n",
       "Name: count, dtype: int64"
      ]
     },
     "execution_count": 4,
     "metadata": {},
     "output_type": "execute_result"
    }
   ],
   "source": [
    "prod.category.value_counts()"
   ]
  },
  {
   "cell_type": "markdown",
   "id": "98eb44cb-7e3f-4c53-aca8-5c9ff1d82247",
   "metadata": {},
   "source": [
    "### Read review data"
   ]
  },
  {
   "cell_type": "code",
   "execution_count": 5,
   "id": "00991b45-2c71-4209-b41a-96d09f2a5a1a",
   "metadata": {},
   "outputs": [],
   "source": [
    "rev_df0 = pd.read_csv('/Users/zulikahlatief/Desktop/personal/ecommerce/dataset/reviews-0.tsv', sep='\\t', names=['id', 'category', 'title'])\n",
    "rev_df1 = pd.read_csv('/Users/zulikahlatief/Desktop/personal/ecommerce/dataset/reviews-1.tsv', sep='\\t', names=['id', 'category', 'title'])\n",
    "rev_df2 = pd.read_csv('/Users/zulikahlatief/Desktop/personal/ecommerce/dataset/reviews-2.tsv', sep='\\t', names=['category', 'id', 'title'])\n",
    "#rev_df3 = pd.read_csv('/Users/zulikahlatief/Desktop/personal/ecommerce/dataset/reviews-3.tsv', sep='\\t', names=['id', 'category', 'title'])"
   ]
  },
  {
   "cell_type": "code",
   "execution_count": 6,
   "id": "5e5743f0-20bf-4579-93d7-755099c2eb17",
   "metadata": {},
   "outputs": [
    {
     "data": {
      "text/html": [
       "<div>\n",
       "<style scoped>\n",
       "    .dataframe tbody tr th:only-of-type {\n",
       "        vertical-align: middle;\n",
       "    }\n",
       "\n",
       "    .dataframe tbody tr th {\n",
       "        vertical-align: top;\n",
       "    }\n",
       "\n",
       "    .dataframe thead th {\n",
       "        text-align: right;\n",
       "    }\n",
       "</style>\n",
       "<table border=\"1\" class=\"dataframe\">\n",
       "  <thead>\n",
       "    <tr style=\"text-align: right;\">\n",
       "      <th></th>\n",
       "      <th>id</th>\n",
       "      <th>category</th>\n",
       "      <th>title</th>\n",
       "    </tr>\n",
       "  </thead>\n",
       "  <tbody>\n",
       "    <tr>\n",
       "      <th>0</th>\n",
       "      <td>daa54754-af9c-41c0-b542-fe5eabc5919c</td>\n",
       "      <td>5</td>\n",
       "      <td>Great!</td>\n",
       "    </tr>\n",
       "    <tr>\n",
       "      <th>1</th>\n",
       "      <td>ab602aca-9bad-4aa9-bd42-6ce24cdf8680</td>\n",
       "      <td>5</td>\n",
       "      <td>It fit perfectly on my new&lt;br /&gt;Victorinox Fib...</td>\n",
       "    </tr>\n",
       "    <tr>\n",
       "      <th>2</th>\n",
       "      <td>f98cd8d3-d6fe-4ee3-8c9f-a18c1690f7a6</td>\n",
       "      <td>5</td>\n",
       "      <td>Excellent pan - my daughter just made madelein...</td>\n",
       "    </tr>\n",
       "    <tr>\n",
       "      <th>3</th>\n",
       "      <td>396f73e3-e3ef-4c93-a4b7-e8b04c6a2223</td>\n",
       "      <td>3</td>\n",
       "      <td>not the good one  but not bad</td>\n",
       "    </tr>\n",
       "    <tr>\n",
       "      <th>4</th>\n",
       "      <td>329ed5e3-8b47-4e78-961b-18b89e7da808</td>\n",
       "      <td>1</td>\n",
       "      <td>This is a rip off. It only comes with this nec...</td>\n",
       "    </tr>\n",
       "    <tr>\n",
       "      <th>...</th>\n",
       "      <td>...</td>\n",
       "      <td>...</td>\n",
       "      <td>...</td>\n",
       "    </tr>\n",
       "    <tr>\n",
       "      <th>1495</th>\n",
       "      <td>16194779-19a0-41d9-a770-43228a032449</td>\n",
       "      <td>5</td>\n",
       "      <td>Order arrived quickly; product was as described.</td>\n",
       "    </tr>\n",
       "    <tr>\n",
       "      <th>1496</th>\n",
       "      <td>22ef857b-fcad-4ad8-ab40-925d21ca073b</td>\n",
       "      <td>5</td>\n",
       "      <td>Best product and fast shipment</td>\n",
       "    </tr>\n",
       "    <tr>\n",
       "      <th>1497</th>\n",
       "      <td>17c5f4ec-bd21-49fe-b764-5f247b8f92c6</td>\n",
       "      <td>5</td>\n",
       "      <td>I purhcased this through another vendor and it...</td>\n",
       "    </tr>\n",
       "    <tr>\n",
       "      <th>1498</th>\n",
       "      <td>3e241866-942b-4a76-8896-12dec938373d</td>\n",
       "      <td>5</td>\n",
       "      <td>Small but nice</td>\n",
       "    </tr>\n",
       "    <tr>\n",
       "      <th>1499</th>\n",
       "      <td>cff73259-edc5-4390-9ea5-102d38f12e24</td>\n",
       "      <td>3</td>\n",
       "      <td>Use for party tray is the best use; not ideal ...</td>\n",
       "    </tr>\n",
       "  </tbody>\n",
       "</table>\n",
       "<p>1500 rows × 3 columns</p>\n",
       "</div>"
      ],
      "text/plain": [
       "                                        id  category  \\\n",
       "0     daa54754-af9c-41c0-b542-fe5eabc5919c         5   \n",
       "1     ab602aca-9bad-4aa9-bd42-6ce24cdf8680         5   \n",
       "2     f98cd8d3-d6fe-4ee3-8c9f-a18c1690f7a6         5   \n",
       "3     396f73e3-e3ef-4c93-a4b7-e8b04c6a2223         3   \n",
       "4     329ed5e3-8b47-4e78-961b-18b89e7da808         1   \n",
       "...                                    ...       ...   \n",
       "1495  16194779-19a0-41d9-a770-43228a032449         5   \n",
       "1496  22ef857b-fcad-4ad8-ab40-925d21ca073b         5   \n",
       "1497  17c5f4ec-bd21-49fe-b764-5f247b8f92c6         5   \n",
       "1498  3e241866-942b-4a76-8896-12dec938373d         5   \n",
       "1499  cff73259-edc5-4390-9ea5-102d38f12e24         3   \n",
       "\n",
       "                                                  title  \n",
       "0                                                Great!  \n",
       "1     It fit perfectly on my new<br />Victorinox Fib...  \n",
       "2     Excellent pan - my daughter just made madelein...  \n",
       "3                         not the good one  but not bad  \n",
       "4     This is a rip off. It only comes with this nec...  \n",
       "...                                                 ...  \n",
       "1495   Order arrived quickly; product was as described.  \n",
       "1496                     Best product and fast shipment  \n",
       "1497  I purhcased this through another vendor and it...  \n",
       "1498                                     Small but nice  \n",
       "1499  Use for party tray is the best use; not ideal ...  \n",
       "\n",
       "[1500 rows x 3 columns]"
      ]
     },
     "execution_count": 6,
     "metadata": {},
     "output_type": "execute_result"
    }
   ],
   "source": [
    "frames = [rev_df0, rev_df1, rev_df2]\n",
    "rev = pd.concat(frames, ignore_index=True)\n",
    "rev"
   ]
  },
  {
   "cell_type": "code",
   "execution_count": 7,
   "id": "c2323fe8-a364-4e41-9537-38492da28e4c",
   "metadata": {},
   "outputs": [],
   "source": [
    "rev = rev.rename(columns={'category': 'rating'})"
   ]
  },
  {
   "cell_type": "code",
   "execution_count": null,
   "id": "a77ad46d-2f99-482e-a5c4-55961692e752",
   "metadata": {},
   "outputs": [],
   "source": [
    "df = pd.merge(prod, rev, on='id')\n",
    "df"
   ]
  },
  {
   "cell_type": "code",
   "execution_count": null,
   "id": "3f688453-9516-40d9-853a-93e38545d2ae",
   "metadata": {},
   "outputs": [],
   "source": [
    "zip_codes_for_training = ['Kitchen']\n",
    "prodn = df[df.category.isin(zip_codes_for_training)]\n"
   ]
  },
  {
   "cell_type": "code",
   "execution_count": null,
   "id": "7ed1646f-2247-44cd-b727-5a7b6d065ee6",
   "metadata": {},
   "outputs": [],
   "source": [
    "numerical_columns = ['rating']"
   ]
  },
  {
   "cell_type": "code",
   "execution_count": null,
   "id": "08bffeb9-6a2d-430c-b7b5-53d4125c593b",
   "metadata": {},
   "outputs": [],
   "source": [
    "prodn"
   ]
  },
  {
   "cell_type": "code",
   "execution_count": null,
   "id": "e90f901f-e3f4-4ec9-85ed-a6e23e4be92a",
   "metadata": {},
   "outputs": [],
   "source": [
    "data[numerical_columns] = data[numerical_columns]\\\n",
    ".apply(lambda c: (c - min(c)) / (max(c) - min(c)))"
   ]
  },
  {
   "cell_type": "code",
   "execution_count": null,
   "id": "d3258365-33c9-4971-869f-c31fd8434bef",
   "metadata": {},
   "outputs": [],
   "source": [
    "prodn[numerical_columns] = prodn[numerical_columns].apply(lambda c: (c - min(c)) / (max(c) - min(c)))"
   ]
  },
  {
   "cell_type": "code",
   "execution_count": null,
   "id": "50e96218-c568-4411-b790-a2996ce67178",
   "metadata": {},
   "outputs": [],
   "source": [
    "prodn"
   ]
  },
  {
   "cell_type": "code",
   "execution_count": null,
   "id": "fdeefb2f-a98d-47df-b38a-aec0d6b96a7a",
   "metadata": {},
   "outputs": [],
   "source": [
    "from sklearn.preprocessing import LabelEncoder, StandardScaler\n",
    "\n",
    "# Standardize numerical ratings\n",
    "scaler = StandardScaler()\n",
    "ratings_train = scaler.fit_transform(prodn[['rating']])\n",
    "#ratings_test = scaler.transform(df[['rating']])"
   ]
  },
  {
   "cell_type": "code",
   "execution_count": null,
   "id": "ab1de3f2-b3b8-48ed-a1da-968f73c1dc3a",
   "metadata": {},
   "outputs": [],
   "source": [
    "ratings_train"
   ]
  },
  {
   "cell_type": "code",
   "execution_count": null,
   "id": "bca69d11-0e53-404e-81e3-14db8d967c59",
   "metadata": {},
   "outputs": [],
   "source": [
    "ratings_train"
   ]
  },
  {
   "cell_type": "markdown",
   "id": "c00016cc-e133-4da7-a721-dae76dab8afc",
   "metadata": {},
   "source": [
    "### Data cleaning"
   ]
  },
  {
   "cell_type": "code",
   "execution_count": null,
   "id": "029d69e2-d3b5-422c-b28e-857a81e2c63a",
   "metadata": {},
   "outputs": [],
   "source": [
    "df = df.rename(columns = {'title_x' : 'product_name', 'title_y' : 'review'})"
   ]
  },
  {
   "cell_type": "code",
   "execution_count": null,
   "id": "7ff452a7-d814-48c5-97aa-94c7e52ce36d",
   "metadata": {},
   "outputs": [],
   "source": [
    "df[df['category']==\"Ktchen\"]"
   ]
  },
  {
   "cell_type": "code",
   "execution_count": null,
   "id": "3075bf4a-f511-4e2d-aab7-00bf71643a9c",
   "metadata": {},
   "outputs": [],
   "source": [
    "df.loc[df.category == \"Ktchen\", 'category'] = \"Kitchen\""
   ]
  },
  {
   "cell_type": "code",
   "execution_count": null,
   "id": "2fe90cc0-d39d-40af-93a4-7fa159ed2980",
   "metadata": {},
   "outputs": [],
   "source": [
    "df.category.value_counts()"
   ]
  },
  {
   "cell_type": "code",
   "execution_count": null,
   "id": "339a2a99-b86f-4655-90a3-8ce325dc16d8",
   "metadata": {},
   "outputs": [],
   "source": [
    "df.isnull().sum()"
   ]
  },
  {
   "cell_type": "code",
   "execution_count": null,
   "id": "156ba4c9-506c-4cb3-8359-d1dacfd88fac",
   "metadata": {},
   "outputs": [],
   "source": [
    "df.info()"
   ]
  },
  {
   "cell_type": "markdown",
   "id": "2380c5fb-4ee8-4499-8d4a-a18955134e56",
   "metadata": {},
   "source": [
    "### EDA and pre-processing"
   ]
  },
  {
   "cell_type": "code",
   "execution_count": null,
   "id": "7bff360d-1616-4dc5-99f6-9edc7f36510f",
   "metadata": {},
   "outputs": [],
   "source": [
    "df.category.value_counts().plot(kind='barh')"
   ]
  },
  {
   "cell_type": "code",
   "execution_count": null,
   "id": "01eb1b35-c968-49f9-aba8-641a1b9163b1",
   "metadata": {},
   "outputs": [],
   "source": [
    "df.rating.value_counts().plot(kind='barh')"
   ]
  },
  {
   "cell_type": "code",
   "execution_count": null,
   "id": "3599d570-9003-4386-8314-9d90fc331d0b",
   "metadata": {},
   "outputs": [],
   "source": [
    "df['review_text'] = df['review'].str.lower()  # Convert to lowercase\n",
    "df['review_text'] = df['review_text'].str.replace('<br />', '')  # Remove punctuation (e.g., \".\", \"!\", \"?\")\n",
    "df['review_text'] = df['review_text'].str.replace('!', '')  # Remove punctuation (e.g., \".\", \"!\", \"?\")"
   ]
  },
  {
   "cell_type": "code",
   "execution_count": null,
   "id": "3eee34f5-8390-44b9-b237-e1cf365396fa",
   "metadata": {},
   "outputs": [],
   "source": [
    "# Tokenize and remove stop words\n",
    "df['review_text'] = df['review_text'].apply(lambda text: ' '.join([word for word in text.split() if word not in stopwords.words('english')]))"
   ]
  },
  {
   "cell_type": "code",
   "execution_count": null,
   "id": "24201af4-7232-42f4-bf2c-1bae8bea4337",
   "metadata": {},
   "outputs": [],
   "source": [
    "filtered_reviews = df[df.rating == 2]\n",
    "raw_reviews = ' '.join(filtered_reviews['review_text'])"
   ]
  },
  {
   "cell_type": "code",
   "execution_count": null,
   "id": "8da35454-9e93-4663-bacb-350609e60faf",
   "metadata": {},
   "outputs": [],
   "source": [
    "# Generate the word cloud\n",
    "wordcloud5 = WordCloud(background_color=\"white\").generate(raw_reviews)\n",
    "\n",
    "# Display the word cloud\n",
    "plt.figure(figsize=(8, 8))\n",
    "plt.imshow(wordcloud5, interpolation='bilinear')\n",
    "plt.axis(\"off\")\n",
    "plt.show()"
   ]
  },
  {
   "cell_type": "code",
   "execution_count": null,
   "id": "d91dad45-d016-421b-8793-40191c057047",
   "metadata": {},
   "outputs": [],
   "source": [
    "df['product_name_fil'] = df['product_name'].str.lower()  # Convert to lowercase\n",
    "df['product_name_fil'] = df['product_name_fil'].str.replace('<br />', '')  # Remove punctuation (e.g., \".\", \"!\", \"?\")\n",
    "df['product_name_fil'] = df['product_name_fil'].str.replace('!', '')  # Remove punctuation (e.g., \".\", \"!\", \"?\")"
   ]
  },
  {
   "cell_type": "code",
   "execution_count": null,
   "id": "357bafca-5b42-4e8d-955f-9143ed937346",
   "metadata": {},
   "outputs": [],
   "source": [
    "df"
   ]
  },
  {
   "cell_type": "markdown",
   "id": "0a7661d9-caf5-458c-9d04-e6e0bd8f37cc",
   "metadata": {},
   "source": [
    "### Modelling"
   ]
  },
  {
   "cell_type": "code",
   "execution_count": null,
   "id": "69dff90e-ddca-4090-b332-88939f1811f7",
   "metadata": {},
   "outputs": [],
   "source": [
    "import pandas as pd\n",
    "from sklearn.feature_extraction.text import CountVectorizer\n",
    "from sklearn.model_selection import train_test_split\n",
    "from sklearn.linear_model import LogisticRegression\n",
    "from sklearn.preprocessing import LabelEncoder\n",
    "from sklearn.metrics import accuracy_score\n",
    "\n",
    "# Assuming df is your DataFrame with the specified columns\n",
    "# Split data into training and test sets\n",
    "train_data, test_data = train_test_split(df, test_size=0.2, random_state=42)\n",
    "\n",
    "# Combine text columns\n",
    "train_data['combined_text'] = train_data['product_name'] + ' ' + train_data['review']\n",
    "test_data['combined_text'] = test_data['product_name'] + ' ' + test_data['review']\n",
    "\n",
    "# CountVectorizer\n",
    "count_vectorizer = CountVectorizer()\n",
    "count_matrix_train = count_vectorizer.fit_transform(train_data['combined_text'])\n",
    "count_matrix_test = count_vectorizer.transform(test_data['combined_text'])\n",
    "\n",
    "# Reset indices before concatenation\n",
    "train_data.reset_index(drop=True, inplace=True)\n",
    "test_data.reset_index(drop=True, inplace=True)\n",
    "\n",
    "\n",
    "# Combine count features with the 'rating' column\n",
    "features_train = pd.concat([pd.DataFrame(count_matrix_train.toarray(), columns=count_vectorizer.get_feature_names_out()), train_data['rating']], axis=1)\n",
    "features_test = pd.concat([pd.DataFrame(count_matrix_test.toarray(), columns=count_vectorizer.get_feature_names_out()), test_data['rating']], axis=1)\n",
    "\n",
    "# Encode 'category' column\n",
    "label_encoder = LabelEncoder()\n",
    "labels_train = label_encoder.fit_transform(train_data['category'])\n",
    "labels_test = label_encoder.transform(test_data['category'])\n"
   ]
  },
  {
   "cell_type": "code",
   "execution_count": null,
   "id": "41c85d31-ad51-45a1-8c2d-aa0f43648488",
   "metadata": {},
   "outputs": [],
   "source": [
    "import pandas as pd\n",
    "from sklearn.feature_extraction.text import TfidfVectorizer\n",
    "from sklearn.model_selection import train_test_split\n",
    "from sklearn.linear_model import LogisticRegression\n",
    "from sklearn.preprocessing import LabelEncoder, StandardScaler\n",
    "from sklearn.metrics import accuracy_score\n",
    "\n",
    "# Assuming df is your DataFrame with the specified columns\n",
    "# Split data into training and test sets\n",
    "train_data, test_data = train_test_split(df, test_size=0.2, random_state=42)\n",
    "\n",
    "# Combine text columns\n",
    "train_data['combined_text'] = train_data['product_name'] + ' ' + train_data['review']\n",
    "test_data['combined_text'] = test_data['product_name'] + ' ' + test_data['review']\n",
    "\n",
    "# TF-IDF vectorization\n",
    "tfidf_vectorizer = TfidfVectorizer(stop_words='english')\n",
    "tfidf_matrix_train = tfidf_vectorizer.fit_transform(train_data['combined_text'])\n",
    "tfidf_matrix_test = tfidf_vectorizer.transform(test_data['combined_text'])\n",
    "\n",
    "# Standardize numerical ratings\n",
    "scaler = StandardScaler()\n",
    "ratings_train = scaler.fit_transform(train_data[['rating']])\n",
    "ratings_test = scaler.transform(test_data[['rating']])\n",
    "\n",
    "# Reset indices before concatenation\n",
    "#train_data.reset_index(drop=True, inplace=True)\n",
    "#test_data.reset_index(drop=True, inplace=True)\n",
    "\n",
    "# Combine TF-IDF features with the 'rating' column\n",
    "features_train = pd.concat([pd.DataFrame(tfidf_matrix_train.toarray(), columns=tfidf_vectorizer.get_feature_names_out()), pd.DataFrame(ratings_train, columns=['rating'])], axis=1)\n",
    "features_test = pd.concat([pd.DataFrame(tfidf_matrix_test.toarray(), columns=tfidf_vectorizer.get_feature_names_out()), pd.DataFrame(ratings_test, columns=['rating'])], axis=1)\n",
    "\n",
    "# Encode 'category' column\n",
    "label_encoder = LabelEncoder()\n",
    "labels_train = label_encoder.fit_transform(train_data['category'])\n",
    "labels_test = label_encoder.transform(test_data['category'])\n"
   ]
  },
  {
   "cell_type": "code",
   "execution_count": null,
   "id": "28ccc24e-4f7f-410c-8a76-7d2a9cfd6a7f",
   "metadata": {},
   "outputs": [],
   "source": []
  },
  {
   "cell_type": "code",
   "execution_count": null,
   "id": "f3310150-80df-4ce1-bbec-e2af0a93664c",
   "metadata": {},
   "outputs": [],
   "source": [
    "# Find best regularizer on validation set \n",
    "def find_r(data, feature_transformation, target_column):  \n",
    " best_accuracy = 0.0 \n",
    " best_regularizer = None \n",
    " train_data = data[0:700] \n",
    " validation_data = data[800:1000] \n",
    " for regularizer in [None, 'l1', 'l2']: \n",
    " pipeline = Pipeline([ \n",
    " ('features', feature_transformation), \n",
    " ('learner', SGDClassifier(loss='log', penalty=regularizer))]) \n",
    " model = pipeline.fit(train_data, train_data[target_column]) \n",
    " accuracy = model.score(validation_data, validation_data[target_column]) \n",
    " if accuracy > best_accuracy: \n",
    " best_accuracy = accuracy \n",
    " best_regularizer = regularizer  \n",
    " return best_regularizer \n",
    "    \n",
    "zip_codes_for_training = … \n",
    "numerical_columns = ['age_in_years', 'monthly_income', 'total_savings'] categorical_columns = ['job_level', 'education_level', 'zip_code'] \n",
    "target_column = 'is_eligible_for_loan' \n",
    "data = pd.read_csv(...) \n",
    "random.seed(1234) \n",
    "random.shuffle(data) \n",
    "# Train/val/test split \n",
    "train_data = data[0:700] \n",
    "validation_data = data[700:800]  \n",
    "test_data = data[800:1000] \n",
    "# Data preprocessing \n",
    "train_data = train_data[train_data.zip_code.isin(zip_codes_for_training)) data[numerical_columns] = data[numerical_columns]\\ \n",
    " .apply(lambda c: (c - min(c)) / (max(c) - min(c))) \n",
    "feature_transformation = ColumnTransformer(transformers=[ \n",
    " ('num_features', StandardScaler(with_mean=False), numerical_columns),  ('cat_features', OneHotEncoder(handle_unknown='ignore'), categorical_columns)]) \n",
    "best_regularizer = find_r(data, feature_transformation, target_column) \n",
    "final_pipeline = Pipeline([('features', feature_transformation), \n",
    " ('learner', SGDClassifier(loss='log', penalty=best_regularizer))]) \n",
    "model = final_pipeline.fit(train_data, train_data[target_column]) \n",
    "accuracy = model.score(test_data, test_data[target_column]) \n",
    "print(f'Final accuracy on test set is {accuracy}')\n",
    "\n"
   ]
  },
  {
   "cell_type": "code",
   "execution_count": null,
   "id": "c251f07c-f75e-46b9-a32b-08321b9caa67",
   "metadata": {},
   "outputs": [],
   "source": [
    "# Train a logistic regression model\n",
    "logistic_regression_model = LogisticRegression()\n",
    "logistic_regression_model.fit(features_train, labels_train)\n",
    "\n",
    "# Make predictions on the test set\n",
    "predictions_test = logistic_regression_model.predict(features_test)\n",
    "\n",
    "# Evaluate the model on the test set\n",
    "accuracy_test = accuracy_score(labels_test, predictions_test)\n",
    "print(f\"Test Accuracy: {accuracy_test}\")"
   ]
  },
  {
   "cell_type": "code",
   "execution_count": null,
   "id": "b6fc6c57-e1b5-47bf-956c-dcd8b579a46e",
   "metadata": {},
   "outputs": [],
   "source": [
    "from sklearn.metrics import confusion_matrix\n",
    "import seaborn as sns"
   ]
  },
  {
   "cell_type": "code",
   "execution_count": null,
   "id": "5332d5d5-a315-4059-8f2b-cc5b07f6f237",
   "metadata": {},
   "outputs": [],
   "source": [
    "# Create a confusion matrix\n",
    "conf_matrix = confusion_matrix(labels_test, predictions_test)\n",
    "\n",
    "# Display the confusion matrix using seaborn\n",
    "plt.figure(figsize=(5, 3))\n",
    "sns.heatmap(conf_matrix, annot=True, fmt='d', cmap='Blues', xticklabels=label_encoder.classes_, yticklabels=label_encoder.classes_)\n",
    "plt.xlabel('Predicted Label')\n",
    "plt.ylabel('True Label')\n",
    "plt.title('Confusion Matrix')\n",
    "plt.show()"
   ]
  },
  {
   "cell_type": "code",
   "execution_count": null,
   "id": "9e70a89d-c6b9-4834-887a-bcd044d38851",
   "metadata": {},
   "outputs": [],
   "source": []
  }
 ],
 "metadata": {
  "kernelspec": {
   "display_name": "ecommerce_project",
   "language": "python",
   "name": "ecommerce_project"
  },
  "language_info": {
   "codemirror_mode": {
    "name": "ipython",
    "version": 3
   },
   "file_extension": ".py",
   "mimetype": "text/x-python",
   "name": "python",
   "nbconvert_exporter": "python",
   "pygments_lexer": "ipython3",
   "version": "3.9.11"
  }
 },
 "nbformat": 4,
 "nbformat_minor": 5
}
